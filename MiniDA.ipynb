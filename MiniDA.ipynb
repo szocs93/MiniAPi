{
  "nbformat": 4,
  "nbformat_minor": 0,
  "metadata": {
    "colab": {
      "name": "MiniDA.ipynb",
      "provenance": [],
      "collapsed_sections": [],
      "toc_visible": true,
      "authorship_tag": "ABX9TyMWJOHNHYK1wbNqOqx3l09l",
      "include_colab_link": true
    },
    "kernelspec": {
      "name": "python3",
      "display_name": "Python 3"
    },
    "accelerator": "GPU"
  },
  "cells": [
    {
      "cell_type": "markdown",
      "metadata": {
        "id": "view-in-github",
        "colab_type": "text"
      },
      "source": [
        "<a href=\"https://colab.research.google.com/github/szocs93/MiniDAS/blob/main/MiniDA.ipynb\" target=\"_parent\"><img src=\"https://colab.research.google.com/assets/colab-badge.svg\" alt=\"Open In Colab\"/></a>"
      ]
    },
    {
      "cell_type": "markdown",
      "metadata": {
        "id": "nDlIeP32XVZn"
      },
      "source": [
        "# **Get information about the machine**"
      ]
    },
    {
      "cell_type": "code",
      "metadata": {
        "id": "JzXIR5ydXeqG"
      },
      "source": [
        "# Disk information\r\n",
        "!df -h\r\n",
        "# Memory information\r\n",
        "!cat /proc/meminfo | grep 'MemAvailable'"
      ],
      "execution_count": null,
      "outputs": []
    },
    {
      "cell_type": "markdown",
      "metadata": {
        "id": "in9dLN96X8EV"
      },
      "source": [
        "# **Import dependencies and CaImAn**"
      ]
    },
    {
      "cell_type": "code",
      "metadata": {
        "collapsed": true,
        "id": "2IE4-nYWYBoH"
      },
      "source": [
        "from datetime import datetime\r\n",
        "import scipy.io as sio\r\n",
        "import re\r\n",
        "import os\r\n",
        "import h5py\r\n",
        "import csv\r\n",
        "import tensorflow as tf\r\n",
        "import time\r\n",
        "import logging\r\n",
        "!pip install holoviews\r\n",
        "import holoviews as hv\r\n",
        "import zipfile\r\n",
        "import glob\r\n",
        "import matplotlib.pyplot as plt\r\n",
        "import matplotlib as mpl\r\n",
        "mpl.style.use('default')\r\n",
        "import numpy as np\r\n",
        "from moviepy.editor import *\r\n",
        "import smtplib\r\n",
        "!pip install scikit-image\r\n",
        "!pip install pynwb\r\n",
        "import caiman as cm\r\n",
        "from caiman.source_extraction import cnmf\r\n",
        "from caiman.utils.visualization import inspect_correlation_pnr\r\n",
        "from caiman.motion_correction import MotionCorrect\r\n",
        "from caiman.source_extraction.cnmf import params as params\r\n",
        "from caiman.utils.visualization import plot_contours, nb_view_patches, nb_plot_contour\r\n",
        "import peakutils\r\n",
        "from tkinter import filedialog\r\n",
        "from tkinter import *\r\n",
        "import bokeh.plotting as bpl\r\n",
        "try:\r\n",
        "       from bokeh.io import vform, hplot\r\n",
        "except:\r\n",
        "       # newer version of bokeh does not use vform & hplot, instead uses column & row\r\n",
        "       from bokeh.layouts import column as vform\r\n",
        "       from bokeh.layouts import row as hplot\r\n",
        "from bokeh.models import CustomJS, ColumnDataSource, Slider\r\n",
        "from bokeh.io import export_png\r\n",
        "\r\n",
        "bpl.output_notebook()\r\n",
        "hv.notebook_extension('bokeh')"
      ],
      "execution_count": null,
      "outputs": []
    },
    {
      "cell_type": "markdown",
      "metadata": {
        "id": "iNRuptnhZjJP"
      },
      "source": [
        "# **Working directory specification**"
      ]
    },
    {
      "cell_type": "code",
      "metadata": {
        "id": "HQ6dy38eg3Vp"
      },
      "source": [
        "file_name = input('Copy+paste the folder where the msCam files are located')\r\n",
        "path = file_name\r\n",
        "print('The analyses path is: ' + path)\r\n",
        "\r\n",
        "ido = datetime.today()\r\n",
        "ev = str(ido.year)\r\n",
        "honap = str(ido.month)\r\n",
        "nap = str(ido.day)\r\n",
        "experimentName = ev + '_' + honap + '_' + nap\r\n",
        "print('The name of experiment is: ' + experimentName)\r\n",
        "\r\n",
        "\r\n",
        "path_to_analyze = path\r\n",
        "analyze_behavior = False\r\n",
        "spatial_downsampling = 3 # Drastically speeds up processing. 2-3 recommended\r\n",
        "isnonrigid = False\r\n",
        "\r\n",
        "path_to_results = path + '/' + experimentName\r\n",
        "try:\r\n",
        "    os.mkdir(path_to_results) # Where to save the data\r\n",
        "    print(\"Result directory \" , path_to_results , \" Created\")\r\n",
        "except FileExistsError:\r\n",
        "    print(\"Directory: \" , path_to_results , \" already existed\" )\r\n",
        "\r\n",
        "    \r\n",
        "\r\n",
        "print('Parameters saved. Ready to start analyzing')"
      ],
      "execution_count": null,
      "outputs": []
    },
    {
      "cell_type": "code",
      "metadata": {
        "id": "8_CtzSRhr9y8"
      },
      "source": [
        "files = [i for i in os.listdir(path) if os.path.isfile(os.path.join(path,i)) and \\\r\n",
        "     'msCam' in i]\r\n",
        "msFileList = [] #create an empty list\r\n",
        "for file in files:\r\n",
        "    if file.endswith(\".avi\"):\r\n",
        "        msFileList.append(os.path.join(path, file)) #append result to list\r\n",
        "\r\n",
        "\r\n",
        "    \r\n",
        "\r\n",
        "print('In this folder the number of msCam videos is: ')\r\n",
        "print(len(files))\r\n",
        "\r\n",
        "\r\n",
        "fnames = msFileList\r\n",
        "print(fnames)"
      ],
      "execution_count": null,
      "outputs": []
    },
    {
      "cell_type": "markdown",
      "metadata": {
        "id": "gV4lo4VEsMr5"
      },
      "source": [
        "# **Enable logging**"
      ]
    },
    {
      "cell_type": "code",
      "metadata": {
        "id": "6t0JolsxsQAz"
      },
      "source": [
        "logging.basicConfig(format=\r\n",
        "                          \"%(relativeCreated)12d [%(filename)s:%(funcName)20s():%(lineno)s] [%(process)d] %(message)s\",\r\n",
        "                    # filename=\"/tmp/caiman.log\",\r\n",
        "                    level=logging.WARNING)"
      ],
      "execution_count": null,
      "outputs": []
    },
    {
      "cell_type": "markdown",
      "metadata": {
        "id": "Ez5UJtXKsWga"
      },
      "source": [
        "# **Enable parallel processing**"
      ]
    },
    {
      "cell_type": "code",
      "metadata": {
        "id": "r4aWtnwHsZXa"
      },
      "source": [
        "#%% start a cluster for parallel processing (if a cluster already exists it will be closed and a new session will be opened)\r\n",
        "if 'dview' in locals():\r\n",
        "    cm.stop_server(dview=dview)\r\n",
        "c, dview, n_processes = cm.cluster.setup_cluster(\r\n",
        "    backend='local', n_processes=None, single_thread=False)"
      ],
      "execution_count": null,
      "outputs": []
    },
    {
      "cell_type": "code",
      "metadata": {
        "id": "-HGRLznwsf17"
      },
      "source": [
        "now = datetime.now()\r\n",
        "analysis_time = now.strftime(\"%Y-%m-%d %H:%M\") # This is to register when the analysis was performed\r\n",
        "print('Analysis started on ' + analysis_time)\r\n",
        "\r\n",
        "\r\n",
        "analysis_start = time.time() # This is to register the time spent analyzing"
      ],
      "execution_count": null,
      "outputs": []
    },
    {
      "cell_type": "markdown",
      "metadata": {
        "id": "S8g9L_ZNsjfi"
      },
      "source": [
        "# **Motion correction**"
      ]
    },
    {
      "cell_type": "markdown",
      "metadata": {
        "id": "4LkjUFS0smUa"
      },
      "source": [
        "## ***Motion correction parameter setup***"
      ]
    },
    {
      "cell_type": "code",
      "metadata": {
        "id": "5sGqrCBdtKqS"
      },
      "source": [
        "# dataset dependent parameters\r\n",
        "frate = 20                       # movie frame rate\r\n",
        "decay_time = 0.4                 # length of a typical transient in seconds\r\n",
        "dirExperimentName = path_to_analyze\r\n",
        "\r\n",
        "\r\n",
        "# motion correction parameters\r\n",
        "motion_correct = True    # flag for performing motion correction\r\n",
        "pw_rigid = False         # flag for performing piecewise-rigid motion correction (otherwise just rigid)\r\n",
        "gSig_filt = (3, 3)     # size of high pass spatial filtering, used in 1p data\r\n",
        "max_shifts = (5, 5)      # maximum allowed rigid shift\r\n",
        "strides = (48, 48)       # start a new patch for pw-rigid motion correction every x pixels\r\n",
        "overlaps = (24, 24)      # overlap between pathes (size of patch strides+overlaps)\r\n",
        "max_deviation_rigid = 3  # maximum deviation allowed for patch with respect to rigid shifts\r\n",
        "border_nan = 'copy'      # replicate values along the boundaries\r\n",
        "use_cuda = True\r\n",
        "memory_fact = 1\r\n",
        "\r\n",
        "mc_dict = {\r\n",
        "    'fnames': fnames,\r\n",
        "    'fr': frate,\r\n",
        "    'decay_time': decay_time,\r\n",
        "    'pw_rigid': pw_rigid,\r\n",
        "    'max_shifts': max_shifts,\r\n",
        "    'gSig_filt': gSig_filt,\r\n",
        "    'strides': strides,\r\n",
        "    'overlaps': overlaps,\r\n",
        "    'max_deviation_rigid': max_deviation_rigid,\r\n",
        "    'border_nan': border_nan\r\n",
        "}\r\n",
        "\r\n",
        "opts = params.CNMFParams(params_dict=mc_dict)"
      ],
      "execution_count": null,
      "outputs": []
    },
    {
      "cell_type": "markdown",
      "metadata": {
        "id": "TXR1gMQptQ2w"
      },
      "source": [
        "## ***Perform motion correction***"
      ]
    },
    {
      "cell_type": "code",
      "metadata": {
        "id": "zTvzYtaMtX7g"
      },
      "source": [
        "start = time.time()\r\n",
        "if motion_correct:\r\n",
        "    # do motion correction rigid\r\n",
        "    mc = MotionCorrect(fnames, dview=dview, **opts.get_group('motion'))\r\n",
        "    mc.motion_correct(save_movie=True)\r\n",
        "    fname_mc = mc.fname_tot_els if pw_rigid else mc.fname_tot_rig\r\n",
        "    \r\n",
        "end = time.time()\r\n",
        "print(end-start)\r\n",
        "print('Motion correction has been done!')"
      ],
      "execution_count": null,
      "outputs": []
    },
    {
      "cell_type": "markdown",
      "metadata": {
        "id": "2KW9PFEztx_X"
      },
      "source": [
        "## Memory map the files, load memory mappable files and restart cluster"
      ]
    },
    {
      "cell_type": "code",
      "metadata": {
        "id": "TmzBEssHt8Rc"
      },
      "source": [
        "if motion_correct:\r\n",
        "    if pw_rigid:\r\n",
        "        bord_px = np.ceil(np.maximum(np.max(np.abs(mc.x_shifts_els)),\r\n",
        "                                     np.max(np.abs(mc.y_shifts_els)))).astype(np.int)\r\n",
        "    else:\r\n",
        "        bord_px = np.ceil(np.max(np.abs(mc.shifts_rig))).astype(np.int)\r\n",
        "\r\n",
        "    bord_px = 0 if border_nan is 'copy' else bord_px\r\n",
        "    fname_new = cm.save_memmap(fname_mc, base_name='memmap_', order='C',\r\n",
        "                               border_to_0=bord_px)\r\n",
        "    \r\n",
        "else:  # if no motion correction just memory map the file\r\n",
        "    fname_new = cm.save_memmap(fnames, base_name='memmap_',\r\n",
        "                               order='C', border_to_0=0, dview=dview)\r\n",
        "    \r\n",
        "print('Motion corrected video has been mapped to memory!')\r\n",
        "\r\n",
        "# load memory mappable file\r\n",
        "Yr, dims, T = cm.load_memmap(fname_new)\r\n",
        "images = Yr.T.reshape((T,) + dims, order='F')\r\n",
        "\r\n",
        "#%% restart cluster to clean up memory\r\n",
        "cm.stop_server(dview=dview)\r\n",
        "c, dview, n_processes = cm.cluster.setup_cluster(\r\n",
        "    backend='local', n_processes=None, single_thread=False)"
      ],
      "execution_count": null,
      "outputs": []
    },
    {
      "cell_type": "markdown",
      "metadata": {
        "id": "KvOWBXOGuc3e"
      },
      "source": [
        "# Perform a projection of correlated pixels (and associated signal-to-noise ratio) in motion corrected video\r\n",
        "This is important to assess the amounts of local correlations and peak-to-noise ratio as well as seed/initialize CNMFe\r\n"
      ]
    },
    {
      "cell_type": "code",
      "metadata": {
        "id": "6f4HHeQuuxlr"
      },
      "source": [
        "# compute some summary images (correlation and peak to noise)\r\n",
        "cn_filter, pnr = cm.summary_images.correlation_pnr(images[::5], gSig=3, swap_dim=False) # change swap dim if output looks weird, it is a problem with tiffile\r\n",
        "\r\n",
        "#Plot the results of the correlation/PNR projection\r\n",
        "plt.figure(figsize=(20,10))\r\n",
        "plt.subplot(2, 2, 1); plt.imshow(cn_filter); plt.colorbar(); plt.title('Correlation projection')\r\n",
        "plt.subplot(2, 2, 2); plt.imshow(pnr); plt.colorbar(); plt.title('PNR')\r\n",
        "\r\n",
        "print('In the CNMFe parameters please give the minimum number of CNR and PNR!')"
      ],
      "execution_count": null,
      "outputs": []
    },
    {
      "cell_type": "markdown",
      "metadata": {
        "id": "jMlYXjkgvLfm"
      },
      "source": [
        "# CNMFe"
      ]
    },
    {
      "cell_type": "markdown",
      "metadata": {
        "id": "Pw6w3PM-vP4k"
      },
      "source": [
        "## *CNMFe parameter setup*\r\n",
        "\r\n",
        "Here are just a few parameters which are key for the pipeline. For further settings please see CaImAn documentation!"
      ]
    },
    {
      "cell_type": "code",
      "metadata": {
        "id": "P8REqlmjT-iG"
      },
      "source": [
        "#Based on the figures above, please add the mininum peak from correlation projection image and from PNR image\r\n",
        "\r\n",
        "min_corr = .2       # min peak value from correlation image\r\n",
        "min_pnr = 10        # min peak to noise ration from PNR image"
      ],
      "execution_count": null,
      "outputs": []
    },
    {
      "cell_type": "code",
      "metadata": {
        "id": "BTXPnZ9jvYXp"
      },
      "source": [
        "# parameters for source extraction and deconvolution\r\n",
        "p = 1               # order of the autoregressive system\r\n",
        "K = None            # upper bound on number of components per patch, in general None\r\n",
        "gSig = (3, 3)       # gaussian width of a 2D gaussian kernel, which approximates a neuron\r\n",
        "gSiz = (13, 13)     # average diameter of a neuron, in general 4*gSig+1\r\n",
        "Ain = None          # possibility to seed with predetermined binary masks\r\n",
        "merge_thr = .55      # merging threshold, max correlation allowed\r\n",
        "rf = 40             # half-size of the patches in pixels. e.g., if rf=40, patches are 80x80\r\n",
        "stride_cnmf = 20    # amount of overlap between the patches in pixels\r\n",
        "#                     (keep it at least large as gSiz, i.e 4 times the neuron size gSig)\r\n",
        "tsub = 2            # downsampling factor in time for initialization,\r\n",
        "#                     increase if you have memory problems\r\n",
        "ssub = 1            # downsampling factor in space for initialization,\r\n",
        "#                     increase if you have memory problems\r\n",
        "#                     you can pass them here as boolean vectors\r\n",
        "low_rank_background = None  # None leaves background of each patch intact,\r\n",
        "#                     True performs global low-rank approximation if gnb>0\r\n",
        "gnb = 1             # number of background components (rank) if positive,\r\n",
        "#                     else exact ring model with following settings\r\n",
        "#                         gnb= 0: Return background as b and W\r\n",
        "#                         gnb=-1: Return full rank background B\r\n",
        "#                         gnb<-1: Don't return background\r\n",
        "nb_patch = 0        # number of background components (rank) per patch if gnb>0,\r\n",
        "#                     else it is set automatically\r\n",
        "ssub_B = 2          # additional downsampling factor in space for background\r\n",
        "ring_size_factor = 1.4  # radius of ring is gSiz*ring_size_factor\r\n",
        "memory_fact = 1\r\n",
        "\r\n",
        "\r\n",
        "opts.change_params(params_dict={'method_init': 'corr_pnr',  # use this for 1 photon\r\n",
        "                                'K': K,\r\n",
        "                                'gSig': gSig,\r\n",
        "                                'gSiz': gSiz,\r\n",
        "                                'merge_thr': merge_thr,\r\n",
        "                                'p': p,\r\n",
        "                                'tsub': tsub,\r\n",
        "                                'ssub': ssub,\r\n",
        "                                'rf': rf,\r\n",
        "                                'stride': stride_cnmf,\r\n",
        "                                'only_init': True,    # set it to True to run CNMF-E\r\n",
        "                                'nb': gnb,\r\n",
        "                                'nb_patch': nb_patch,\r\n",
        "                                'method_deconvolution': 'oasis',       # could use 'cvxpy' alternatively\r\n",
        "                                'low_rank_background': low_rank_background,\r\n",
        "                                'update_background_components': True,  # sometimes setting to False improve the results\r\n",
        "                                'min_corr': min_corr,\r\n",
        "                                'min_pnr': min_pnr,\r\n",
        "                                'normalize_init': False,               # just leave as is\r\n",
        "                                'center_psf': True,                    # leave as is for 1 photon\r\n",
        "                                'ssub_B': ssub_B,\r\n",
        "                                'ring_size_factor': ring_size_factor,\r\n",
        "                                'del_duplicates': True,                # whether to remove duplicates from initialization\r\n",
        "                                'border_pix': bord_px})                # number of pixels to not consider in the borders"
      ],
      "execution_count": null,
      "outputs": []
    },
    {
      "cell_type": "markdown",
      "metadata": {
        "id": "vpaKg05svyCI"
      },
      "source": [
        "## *Perform CNMFe*"
      ]
    },
    {
      "cell_type": "code",
      "metadata": {
        "id": "UO6ujEuYv2vD"
      },
      "source": [
        "start = time.time()\r\n",
        "cnm = cnmf.CNMF(n_processes=n_processes, dview=dview, Ain=Ain, params=opts)\r\n",
        "cnm.fit(images)\r\n",
        "end = time.time()\r\n",
        "print('CNMFe done in: ')\r\n",
        "print(end-start)"
      ],
      "execution_count": null,
      "outputs": []
    },
    {
      "cell_type": "code",
      "metadata": {
        "id": "wh09noAqz_S1"
      },
      "source": [
        "#%% COMPONENT EVALUATION\r\n",
        "# the components are evaluated in three ways:\r\n",
        "#   a) the shape of each component must be correlated with the data\r\n",
        "#   b) a minimum peak SNR is required over the length of a transient\r\n",
        "#   c) each shape passes a CNN based classifier\r\n",
        "\r\n",
        "min_SNR = 3            # adaptive way to set threshold on the transient size\r\n",
        "r_values_min = 0.85    # threshold on space consistency (if you lower more components\r\n",
        "#                        will be accepted, potentially with worst quality)\r\n",
        "cnm.params.set('quality', {'min_SNR': min_SNR,\r\n",
        "                           'rval_thr': r_values_min,\r\n",
        "                           'use_cnn': True})\r\n",
        "cnm.estimates.evaluate_components(images, cnm.params, dview=dview)\r\n",
        "\r\n",
        "print(' ***** ')\r\n",
        "print('Number of total components: ', len(cnm.estimates.C))\r\n",
        "print('Number of accepted components: ', len(cnm.estimates.idx_components))"
      ],
      "execution_count": null,
      "outputs": []
    },
    {
      "cell_type": "markdown",
      "metadata": {
        "id": "ci4nIAIb0Fnm"
      },
      "source": [
        "# Plot results"
      ]
    },
    {
      "cell_type": "markdown",
      "metadata": {
        "id": "ay79wDgA0Ie0"
      },
      "source": [
        "## *Plot neuron contours*\r\n"
      ]
    },
    {
      "cell_type": "code",
      "metadata": {
        "id": "MRcaJliV0LJa"
      },
      "source": [
        "#%% plot contour plots of accepted and rejected components\r\n",
        "cnm.estimates.plot_contours(img=cn_filter, idx=cnm.estimates.idx_components)"
      ],
      "execution_count": null,
      "outputs": []
    },
    {
      "cell_type": "markdown",
      "metadata": {
        "id": "H6_ufkxk0Y2b"
      },
      "source": [
        "## *Plot traces and every other results*"
      ]
    },
    {
      "cell_type": "code",
      "metadata": {
        "id": "6yC_fLZJ0dDj"
      },
      "source": [
        "%matplotlib inline\r\n",
        "\r\n",
        "#How many neurons to plot\r\n",
        "neuronsToPlot = len(cnm.estimates.idx_components)\r\n",
        "\r\n",
        "DeconvTraces = cnm.estimates.S\r\n",
        "RawTraces = cnm.estimates.C\r\n",
        "SFP = cnm.estimates.A\r\n",
        "SFP_dims = list(dims)\r\n",
        "SFP_dims.append(SFP.shape[1]) \r\n",
        "print('Spatial foootprints dimensions (height x width x neurons): ' + str(SFP_dims))\r\n",
        "\r\n",
        "numNeurons = SFP_dims[2]\r\n",
        "\r\n",
        "SFP = np.reshape(SFP.toarray(), SFP_dims, order='F')\r\n",
        "\r\n",
        "maxRawTraces = np.amax(RawTraces)\r\n",
        "\r\n",
        "plt.figure(figsize=(30,15))\r\n",
        "plt.subplot(341);\r\n",
        "plt.subplot(345); plt.plot(mc.shifts_rig); plt.title('Motion corrected shifts')\r\n",
        "plt.subplot(3,4,9);\r\n",
        "plt.subplot(3,4,2); plt.imshow(cn_filter); plt.colorbar(); plt.title('Correlation projection')\r\n",
        "plt.subplot(3,4,6); plt.imshow(pnr); plt.colorbar(); plt.title('PNR')\r\n",
        "plt.subplot(3,4,10); plt.imshow(np.amax(SFP,axis=2)); plt.colorbar(); plt.title('Spatial footprints')\r\n",
        "\r\n",
        "plt.subplot(2,2,2); plt.figure; plt.title('Raw traces')\r\n",
        "plot_gain = 10 # To change the value gain of traces\r\n",
        "if numNeurons >= neuronsToPlot:\r\n",
        "  for i in range(neuronsToPlot):\r\n",
        "    if i == 0:\r\n",
        "      plt.plot(RawTraces[i,:],'k')\r\n",
        "    else:\r\n",
        "      trace = RawTraces[i,:] + maxRawTraces*i/plot_gain\r\n",
        "      plt.plot(trace,'k')\r\n",
        "else:\r\n",
        "  for i in range(numNeurons):\r\n",
        "    if i == 0:\r\n",
        "      plt.plot(RawTraces[i,:],'k')\r\n",
        "    else:\r\n",
        "      trace = RawTraces[i,:] + maxRawTraces*i/plot_gain\r\n",
        "      plt.plot(trace,'k')\r\n",
        "\r\n",
        "plt.subplot(2,2,4); plt.figure; plt.title('Deconvolved traces')\r\n",
        "plot_gain = 20 # To change the value gain of traces\r\n",
        "if numNeurons >= neuronsToPlot:\r\n",
        "  for i in range(neuronsToPlot):\r\n",
        "    if i == 0:\r\n",
        "      plt.plot(DeconvTraces[i,:],'k')\r\n",
        "    else:\r\n",
        "      trace = DeconvTraces[i,:] + maxRawTraces*i/plot_gain\r\n",
        "      plt.plot(trace,'k')\r\n",
        "else:\r\n",
        "  for i in range(numNeurons):\r\n",
        "    if i == 0:\r\n",
        "      plt.plot(DeconvTraces[i,:],'k')\r\n",
        "    else:\r\n",
        "      trace = DeconvTraces[i,:] + maxRawTraces*i/plot_gain\r\n",
        "      plt.plot(trace,'k')      \r\n",
        "\r\n",
        "# Save summary figure\r\n",
        "plt.savefig(path_to_results + '/' + 'summary_figure.svg', edgecolor='w', format='svg', transparent=True)"
      ],
      "execution_count": null,
      "outputs": []
    },
    {
      "cell_type": "code",
      "metadata": {
        "id": "GBrvFAOs0h2L"
      },
      "source": [
        "# accepted components and it's traces\r\n",
        "CI = cm.local_correlations(images[::1].transpose(1,2,0))\r\n",
        "CI[np.isnan(CI)] = 0\r\n",
        "cnm.estimates.nb_view_components(img=CI, idx=cnm.estimates.idx_components, cmap = 'gray')\r\n",
        "# if you want to see the rejected components too, delete idx=...."
      ],
      "execution_count": null,
      "outputs": []
    },
    {
      "cell_type": "code",
      "metadata": {
        "id": "fu6vZMwo0zEk"
      },
      "source": [
        "# this shows actually the deconvolved version of the traces\r\n",
        "cnm.estimates.detrend_df_f(quantileMin=8, frames_window=250)\r\n",
        "cnm.estimates.select_components(use_object=True)\r\n",
        "cnm.estimates.nb_view_components(img=cn_filter, denoised_color='red', cmap = 'gray')"
      ],
      "execution_count": null,
      "outputs": []
    },
    {
      "cell_type": "code",
      "metadata": {
        "id": "BL96DcqF04Mz"
      },
      "source": [
        "cnm.estimates.select_components(use_object=True)"
      ],
      "execution_count": null,
      "outputs": []
    },
    {
      "cell_type": "markdown",
      "metadata": {
        "id": "P1prfbYUUXii"
      },
      "source": [
        "# Delete unwanted neurons"
      ]
    },
    {
      "cell_type": "code",
      "metadata": {
        "id": "wVLgYPh-UbQu"
      },
      "source": [
        "n = len(cnm.estimates.C)\r\n",
        "j = [0] * n\r\n",
        "for k in range(len(cnm.estimates.C)):\r\n",
        "    plt.figure()\r\n",
        "    plt.plot(RawTraces[k,:])\r\n",
        "    plt.pause(0.2)\r\n",
        "    j[k] = input(\"Is it a good trace or not? If yes press 1, if not press 0!:\")"
      ],
      "execution_count": null,
      "outputs": []
    },
    {
      "cell_type": "code",
      "metadata": {
        "id": "H4AxROkLUe7R"
      },
      "source": [
        "res = [idx for idx, val in enumerate(j) if val != '0']"
      ],
      "execution_count": null,
      "outputs": []
    },
    {
      "cell_type": "markdown",
      "metadata": {
        "id": "ZJEANAsRUhP7"
      },
      "source": [
        "# Plot again neurons without bad traces"
      ]
    },
    {
      "cell_type": "code",
      "metadata": {
        "id": "BgtqGGkzUmIg"
      },
      "source": [
        "\r\n",
        "neuronsToPlot = len(FinalTraces)\r\n",
        "plt.subplot(2,2,1); plt.figure; plt.title('Final Raw traces')\r\n",
        "plot_gain = 10\r\n",
        "maxFinalTraces = np.amax(FinalTraces)\r\n",
        "if numNeurons >= neuronsToPlot:\r\n",
        "  for i in range(neuronsToPlot):\r\n",
        "    if i == 0:\r\n",
        "      plt.plot(FinalTraces[i])\r\n",
        "    else:\r\n",
        "      trace = FinalTraces[i] + maxFinalTraces*i/plot_gain\r\n",
        "      plt.plot(trace)\r\n",
        "else:\r\n",
        "  for i in range(numNeurons):\r\n",
        "    if i == 0:\r\n",
        "      plt.plot(FinalTraces[i])\r\n",
        "    else:\r\n",
        "      trace = FinalTraces[i] + maxFinalTraces*i/plot_gain\r\n",
        "      plt.plot(trace)\r\n",
        "\r\n",
        "plt.subplot(2,2,2); plt.figure; plt.title('Final Deconvolved traces')\r\n",
        "plot_gain = 10 # To change the value gain of traces\r\n",
        "if numNeurons >= neuronsToPlot:\r\n",
        "  for i in range(neuronsToPlot):\r\n",
        "    if i == 0:\r\n",
        "      plt.plot(FinalDeconvs[i])\r\n",
        "    else:\r\n",
        "      trace = FinalDeconvs[i] + maxFinalTraces*i/plot_gain\r\n",
        "      plt.plot(trace)\r\n",
        "else:\r\n",
        "  for i in range(numNeurons):\r\n",
        "    if i == 0:\r\n",
        "      plt.plot(FinalDeconvs[i])\r\n",
        "    else:\r\n",
        "      trace = FinalDeconvs[i] + maxFinalTraces*i/plot_gain\r\n",
        "      plt.plot(trace,'k')\r\n",
        "        \r\n",
        "        \r\n",
        "# Save summary figure\r\n",
        "plt.savefig(path_to_results + '/' + 'finaltraces.svg', edgecolor='w', format='svg', transparent=True)"
      ],
      "execution_count": null,
      "outputs": []
    },
    {
      "cell_type": "markdown",
      "metadata": {
        "id": "0BAPq2Hw1L6O"
      },
      "source": [
        "# Save results"
      ]
    },
    {
      "cell_type": "code",
      "metadata": {
        "id": "Y8KK9LFf1O0b"
      },
      "source": [
        "save_hdf5 = True\r\n",
        "if save_hdf5: \r\n",
        "    cnm.save(path_to_results + '/' + 'analysis_results.hdf5')"
      ],
      "execution_count": null,
      "outputs": []
    },
    {
      "cell_type": "code",
      "metadata": {
        "id": "WgrjN8PD1RCT"
      },
      "source": [
        "from scipy.io import savemat\r\n",
        "save_mat = True\r\n",
        "if save_mat:  \r\n",
        "    results_dict = {\r\n",
        "                'dirName': path_to_analyze,\r\n",
        "                'numFiles': len(msFileList),\r\n",
        "                'framesNum': len(RawTraces[1]),\r\n",
        "                'maxFramesPerFile': 1000,\r\n",
        "                'height': dims[0],\r\n",
        "                'width': dims[1],\r\n",
        "                'Experiment': experimentName,\r\n",
        "                'camNumber': 0,\r\n",
        "                'analysis_time': analysis_time,\r\n",
        "                'ds': spatial_downsampling,\r\n",
        "                'shifts': mc.shifts_rig,\r\n",
        "                'meanFrame': [], #TO DO\r\n",
        "                'Centroids': [], #TO DO\r\n",
        "                'CorrProj': cn_filter,\r\n",
        "                'PeakToNoiseProj': pnr,\r\n",
        "                'FiltTraces': FinalTraces,\r\n",
        "                'Decoaccepted': FinalDeconvs,\r\n",
        "                'RawTraces': RawTraces.conj().transpose(), #swap time x neurons dimensions\r\n",
        "                'SFP': SFP,\r\n",
        "                'numNeurons': SFP_dims[2],\r\n",
        "                'DeconvTraces': DeconvTraces\r\n",
        "                }\r\n",
        "\r\n",
        "    SFPperm = np.transpose(SFP,[2,0,1])\r\n",
        "    sio.savemat(path_to_results + '/SFP.mat', {'SFP': SFPperm})\r\n",
        "    sio.savemat(path_to_results + '/ms.mat', {'ms': results_dict})"
      ],
      "execution_count": null,
      "outputs": []
    },
    {
      "cell_type": "code",
      "metadata": {
        "colab": {
          "base_uri": "https://localhost:8080/"
        },
        "id": "npKbPWOr1aV7",
        "outputId": "e08e0e9e-690c-4d17-8bb3-0f6363093e5b"
      },
      "source": [
        "if analyze_behavior:\r\n",
        "  print('Folytatjuk')\r\n",
        "else:\r\n",
        "  # Stop counter and register analysis time\r\n",
        "  analysis_end = time.time()\r\n",
        "  analysis_duration = analysis_end - analysis_start\r\n",
        "  print('Done analyzing. This took a total ' + str(analysis_duration) + ' s')"
      ],
      "execution_count": null,
      "outputs": [
        {
          "output_type": "stream",
          "text": [
            "All the data successfully analized\n"
          ],
          "name": "stdout"
        }
      ]
    }
  ]
}