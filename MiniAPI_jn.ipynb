{
 "cells": [
  {
   "cell_type": "markdown",
   "metadata": {},
   "source": [
    "#                         Miniscope Data Analysing Software\n",
    "\n",
    "This software was created to personal lab purposes. It written based on PIMPN-master by Guillaume Etter and based on CaImAn-master python codes and their jupyter notebook version. For detailed use see the CaImAn-documentation and wiki."
   ]
  },
  {
   "cell_type": "markdown",
   "metadata": {},
   "source": [
    "# Initialization\n",
    "\n",
    "Firs of all you need to import any dependencies into memory to start proper analysing.\n",
    "!!! CAREFUL:\n",
    "    Before starting jupyter notebook with MiDAS you need to install caiman and to write in the anaconda command line the following command:\n",
    "    >> conda activate caiman"
   ]
  },
  {
   "cell_type": "code",
   "execution_count": null,
   "metadata": {},
   "outputs": [],
   "source": [
    "from datetime import datetime\n",
    "import pandas as pd\n",
    "import scipy.io as sio\n",
    "import re\n",
    "import os\n",
    "import h5py\n",
    "import csv\n",
    "import tensorflow as tf\n",
    "import time\n",
    "import logging\n",
    "import holoviews as hv\n",
    "import zipfile\n",
    "import glob\n",
    "import matplotlib.pyplot as plt\n",
    "import matplotlib as mpl\n",
    "mpl.style.use('default')\n",
    "import numpy as np\n",
    "from moviepy.editor import *\n",
    "import smtplib\n",
    "import caiman as cm\n",
    "from caiman.source_extraction import cnmf\n",
    "from caiman.utils.visualization import inspect_correlation_pnr\n",
    "from caiman.motion_correction import MotionCorrect\n",
    "from caiman.source_extraction.cnmf import params as params\n",
    "from caiman.utils.visualization import plot_contours, nb_view_patches, nb_plot_contour\n",
    "import peakutils\n",
    "from tkinter import filedialog\n",
    "from tkinter import *\n",
    "import bokeh.plotting as bpl\n",
    "try:\n",
    "       from bokeh.io import vform, hplot\n",
    "except:\n",
    "       # newer version of bokeh does not use vform & hplot, instead uses column & row\n",
    "       from bokeh.layouts import column as vform\n",
    "       from bokeh.layouts import row as hplot\n",
    "from bokeh.models import CustomJS, ColumnDataSource, Slider\n",
    "from bokeh.io import export_png\n",
    "\n",
    "bpl.output_notebook()\n",
    "hv.notebook_extension('bokeh')"
   ]
  },
  {
   "cell_type": "code",
   "execution_count": null,
   "metadata": {},
   "outputs": [],
   "source": [
    "root = Tk()\n",
    "Button(root, text=\"Quit\", command=root.destroy).pack()\n",
    "root.folder =  filedialog.askdirectory(title = \"Select folder to analyse\")\n",
    "path = root.folder\n",
    "root.mainloop()\n",
    "print('The analyses path is: ' + path)\n",
    "\n",
    "ido = datetime.today()\n",
    "ev = str(ido.year)\n",
    "honap = str(ido.month)\n",
    "nap = str(ido.day)\n",
    "experimentName = ev + '_' + honap + '_' + nap\n",
    "print('The name of experiment is: ' + experimentName)\n",
    "\n",
    "\n",
    "path_to_analyze = path\n",
    "analyze_behavior = True\n",
    "spatial_downsampling = 3 # Drastically speeds up processing. 2-3 recommended\n",
    "isnonrigid = False\n",
    "\n",
    "path_to_results = path + '/' + experimentName\n",
    "try:\n",
    "    os.mkdir(path_to_results) # Where to save the data\n",
    "    print(\"Result directory \" , path_to_results , \" Created\")\n",
    "except FileExistsError:\n",
    "    print(\"Directory: \" , path_to_results , \" already existed\" )\n",
    "\n",
    "    \n",
    "\n",
    "print('Parameters saved. Ready to start analyzing')"
   ]
  },
  {
   "cell_type": "code",
   "execution_count": null,
   "metadata": {
    "scrolled": true
   },
   "outputs": [],
   "source": [
    "path = path_to_analyze\n",
    "files = [i for i in os.listdir(path) if os.path.isfile(os.path.join(path,i)) and \\\n",
    "     'msCam' in i]\n",
    "msFileList = [] #create an empty list\n",
    "for file in files:\n",
    "    if file.endswith(\".avi\"):\n",
    "        msFileList.append(os.path.join(path, file)) #append result to list\n",
    "\n",
    "\n",
    "    \n",
    "\n",
    "print('In this folder the number of msCam videos is: ')\n",
    "print(len(files))\n",
    "print('-------------------------------------------------------------------------------------------------------------------------------')\n",
    "fnames = msFileList\n",
    "print(sorted(fnames))"
   ]
  },
  {
   "cell_type": "markdown",
   "metadata": {},
   "source": [
    "# Logging"
   ]
  },
  {
   "cell_type": "code",
   "execution_count": null,
   "metadata": {},
   "outputs": [],
   "source": [
    "logging.basicConfig(format=\n",
    "                          \"%(relativeCreated)12d [%(filename)s:%(funcName)20s():%(lineno)s] [%(process)d] %(message)s\",\n",
    "                    # filename=\"/tmp/caiman.log\",\n",
    "                    level=logging.WARNING)"
   ]
  },
  {
   "cell_type": "markdown",
   "metadata": {},
   "source": [
    "# Enable paralel processing for faster analysis"
   ]
  },
  {
   "cell_type": "code",
   "execution_count": null,
   "metadata": {},
   "outputs": [],
   "source": [
    "#%% start a cluster for parallel processing (if a cluster already exists it will be closed and a new session will be opened)\n",
    "if 'dview' in locals():\n",
    "    cm.stop_server(dview=dview)\n",
    "c, dview, n_processes = cm.cluster.setup_cluster(\n",
    "    backend='local', n_processes=None, single_thread=False)"
   ]
  },
  {
   "cell_type": "code",
   "execution_count": null,
   "metadata": {},
   "outputs": [],
   "source": [
    "now = datetime.now()\n",
    "analysis_time = now.strftime(\"%Y-%m-%d %H:%M\") # This is to register when the analysis was performed\n",
    "print('Analysis started on ' + analysis_time)\n",
    "\n",
    "\n",
    "analysis_start = time.time() # This is to register the time spent analyzing"
   ]
  },
  {
   "cell_type": "markdown",
   "metadata": {},
   "source": [
    "# Motion correction params setup"
   ]
  },
  {
   "cell_type": "code",
   "execution_count": null,
   "metadata": {},
   "outputs": [],
   "source": [
    "# dataset dependent parameters\n",
    "frate = 20                       # movie frame rate\n",
    "decay_time = 0.4                 # length of a typical transient in seconds\n",
    "dirExperimentName = path_to_analyze\n",
    "\n",
    "\n",
    "# motion correction parameters\n",
    "motion_correct = True    # flag for performing motion correction\n",
    "pw_rigid = False         # flag for performing piecewise-rigid motion correction (otherwise just rigid)\n",
    "gSig_filt = (3, 3)     # size of high pass spatial filtering, used in 1p data\n",
    "max_shifts = (5, 5)      # maximum allowed rigid shift\n",
    "strides = (48, 48)       # start a new patch for pw-rigid motion correction every x pixels\n",
    "overlaps = (24, 24)      # overlap between pathes (size of patch strides+overlaps)\n",
    "max_deviation_rigid = 3  # maximum deviation allowed for patch with respect to rigid shifts\n",
    "border_nan = 'copy'      # replicate values along the boundaries\n",
    "use_cuda = True\n",
    "memory_fact = 1\n",
    "\n",
    "mc_dict = {\n",
    "    'fnames': fnames,\n",
    "    'fr': frate,\n",
    "    'decay_time': decay_time,\n",
    "    'pw_rigid': pw_rigid,\n",
    "    'max_shifts': max_shifts,\n",
    "    'gSig_filt': gSig_filt,\n",
    "    'strides': strides,\n",
    "    'overlaps': overlaps,\n",
    "    'max_deviation_rigid': max_deviation_rigid,\n",
    "    'border_nan': border_nan\n",
    "}\n",
    "\n",
    "opts = params.CNMFParams(params_dict=mc_dict)"
   ]
  },
  {
   "cell_type": "markdown",
   "metadata": {},
   "source": [
    "# Perform motion correction"
   ]
  },
  {
   "cell_type": "code",
   "execution_count": null,
   "metadata": {
    "scrolled": true
   },
   "outputs": [],
   "source": [
    "start = time.time()\n",
    "if motion_correct:\n",
    "    # do motion correction rigid\n",
    "    mc = MotionCorrect(fnames, dview=dview, **opts.get_group('motion'))\n",
    "    mc.motion_correct(save_movie=True)\n",
    "    fname_mc = mc.fname_tot_els if pw_rigid else mc.fname_tot_rig\n",
    "    \n",
    "end = time.time()\n",
    "print(end-start)\n",
    "print('Motion correction has been done!')"
   ]
  },
  {
   "cell_type": "markdown",
   "metadata": {},
   "source": [
    "# Memory mapping the motion corrected videos"
   ]
  },
  {
   "cell_type": "code",
   "execution_count": null,
   "metadata": {},
   "outputs": [],
   "source": [
    "if motion_correct:\n",
    "    if pw_rigid:\n",
    "        bord_px = np.ceil(np.maximum(np.max(np.abs(mc.x_shifts_els)),\n",
    "                                     np.max(np.abs(mc.y_shifts_els)))).astype(np.int)\n",
    "    else:\n",
    "        bord_px = np.ceil(np.max(np.abs(mc.shifts_rig))).astype(np.int)\n",
    "\n",
    "    bord_px = 0 if border_nan is 'copy' else bord_px\n",
    "    fname_new = cm.save_memmap(fname_mc, base_name='memmap_', order='C',\n",
    "                               border_to_0=bord_px)\n",
    "    \n",
    "else:  # if no motion correction just memory map the file\n",
    "    fname_new = cm.save_memmap(fnames, base_name='memmap_',\n",
    "                               order='C', border_to_0=0, dview=dview)\n",
    "    \n",
    "print('Motion corrected video has been mapped to memory!')"
   ]
  },
  {
   "cell_type": "code",
   "execution_count": null,
   "metadata": {},
   "outputs": [],
   "source": [
    "# load memory mappable file\n",
    "Yr, dims, T = cm.load_memmap(fname_new)\n",
    "images = Yr.T.reshape((T,) + dims, order='F')"
   ]
  },
  {
   "cell_type": "code",
   "execution_count": null,
   "metadata": {},
   "outputs": [],
   "source": [
    "#%% restart cluster to clean up memory\n",
    "cm.stop_server(dview=dview)\n",
    "c, dview, n_processes = cm.cluster.setup_cluster(\n",
    "    backend='local', n_processes=None, single_thread=False)"
   ]
  },
  {
   "cell_type": "markdown",
   "metadata": {},
   "source": [
    "# Perform a projection of correlated pixels (and associated signal-to-noise ratio) in motion corrected video\n",
    "This is important to assess the amounts of local correlations and peak-to-noise ratio as well as seed/initialize CNMFe"
   ]
  },
  {
   "cell_type": "code",
   "execution_count": null,
   "metadata": {},
   "outputs": [],
   "source": [
    "# compute some summary images (correlation and peak to noise)\n",
    "cn_filter, pnr = cm.summary_images.correlation_pnr(images[::5], gSig=3, swap_dim=False) # change swap dim if output looks weird, it is a problem with tiffile\n"
   ]
  },
  {
   "cell_type": "code",
   "execution_count": null,
   "metadata": {},
   "outputs": [],
   "source": [
    "#Plot the results of the correlation/PNR projection\n",
    "plt.figure(figsize=(20,10))\n",
    "plt.subplot(2, 2, 1); plt.imshow(cn_filter); plt.colorbar(); plt.title('Correlation projection')\n",
    "plt.subplot(2, 2, 2); plt.imshow(pnr); plt.colorbar(); plt.title('PNR')"
   ]
  },
  {
   "cell_type": "markdown",
   "metadata": {},
   "source": [
    "# Setup CNMFe params "
   ]
  },
  {
   "cell_type": "code",
   "execution_count": null,
   "metadata": {
    "scrolled": true
   },
   "outputs": [],
   "source": [
    "# parameters for source extraction and deconvolution\n",
    "p = 1               # order of the autoregressive system\n",
    "K = None            # upper bound on number of components per patch, in general None\n",
    "gSig = (3, 3)       # gaussian width of a 2D gaussian kernel, which approximates a neuron\n",
    "gSiz = (13, 13)     # average diameter of a neuron, in general 4*gSig+1\n",
    "Ain = None          # possibility to seed with predetermined binary masks\n",
    "merge_thr = .65      # merging threshold, max correlation allowed\n",
    "rf = 40             # half-size of the patches in pixels. e.g., if rf=40, patches are 80x80\n",
    "stride_cnmf = 20    # amount of overlap between the patches in pixels\n",
    "#                     (keep it at least large as gSiz, i.e 4 times the neuron size gSig)\n",
    "tsub = 2            # downsampling factor in time for initialization,\n",
    "#                     increase if you have memory problems\n",
    "ssub = 1            # downsampling factor in space for initialization,\n",
    "#                     increase if you have memory problems\n",
    "#                     you can pass them here as boolean vectors\n",
    "low_rank_background = None  # None leaves background of each patch intact,\n",
    "#                     True performs global low-rank approximation if gnb>0\n",
    "gnb = 1             # number of background components (rank) if positive,\n",
    "#                     else exact ring model with following settings\n",
    "#                         gnb= 0: Return background as b and W\n",
    "#                         gnb=-1: Return full rank background B\n",
    "#                         gnb<-1: Don't return background\n",
    "nb_patch = 0        # number of background components (rank) per patch if gnb>0,\n",
    "#                     else it is set automatically\n",
    "min_corr = .2       # min peak value from correlation image\n",
    "min_pnr = 6       # min peak to noise ration from PNR image\n",
    "ssub_B = 2          # additional downsampling factor in space for background\n",
    "ring_size_factor = 1.4  # radius of ring is gSiz*ring_size_factor\n",
    "memory_fact = 1\n",
    "\n",
    "\n",
    "opts.change_params(params_dict={'method_init': 'corr_pnr',  # use this for 1 photon\n",
    "                                'K': K,\n",
    "                                'gSig': gSig,\n",
    "                                'gSiz': gSiz,\n",
    "                                'merge_thr': merge_thr,\n",
    "                                'p': p,\n",
    "                                'tsub': tsub,\n",
    "                                'ssub': ssub,\n",
    "                                'rf': rf,\n",
    "                                'stride': stride_cnmf,\n",
    "                                'only_init': True,    # set it to True to run CNMF-E\n",
    "                                'nb': gnb,\n",
    "                                'nb_patch': nb_patch,\n",
    "                                'method_deconvolution': 'oasis',       # could use 'cvxpy' alternatively\n",
    "                                'low_rank_background': low_rank_background,\n",
    "                                'update_background_components': True,  # sometimes setting to False improve the results\n",
    "                                'min_corr': min_corr,\n",
    "                                'min_pnr': min_pnr,\n",
    "                                'normalize_init': False,               # just leave as is\n",
    "                                'center_psf': True,                    # leave as is for 1 photon\n",
    "                                'ssub_B': ssub_B,\n",
    "                                'ring_size_factor': ring_size_factor,\n",
    "                                'del_duplicates': True,                # whether to remove duplicates from initialization\n",
    "                                'border_pix': bord_px})                # number of pixels to not consider in the borders"
   ]
  },
  {
   "cell_type": "markdown",
   "metadata": {},
   "source": [
    "# Perform CNMFe"
   ]
  },
  {
   "cell_type": "code",
   "execution_count": null,
   "metadata": {},
   "outputs": [],
   "source": [
    "start = time.time()\n",
    "cnm = cnmf.CNMF(n_processes=n_processes, dview=dview, Ain=Ain, params=opts)\n",
    "cnm.fit(images)\n",
    "end = time.time()\n",
    "print('CNMFe done in: ')\n",
    "print(end-start)"
   ]
  },
  {
   "cell_type": "code",
   "execution_count": null,
   "metadata": {
    "scrolled": true
   },
   "outputs": [],
   "source": [
    "#%% COMPONENT EVALUATION\n",
    "# the components are evaluated in three ways:\n",
    "#   a) the shape of each component must be correlated with the data\n",
    "#   b) a minimum peak SNR is required over the length of a transient\n",
    "#   c) each shape passes a CNN based classifier\n",
    "\n",
    "min_SNR = 3            # adaptive way to set threshold on the transient size\n",
    "r_values_min = 0.85    # threshold on space consistency (if you lower more components\n",
    "#                        will be accepted, potentially with worst quality)\n",
    "cnm.params.set('quality', {'min_SNR': min_SNR,\n",
    "                           'rval_thr': r_values_min,\n",
    "                           'use_cnn': True})\n",
    "cnm.estimates.evaluate_components(images, cnm.params, dview=dview)\n",
    "\n",
    "print(' ***** ')\n",
    "print('Number of total components: ', len(cnm.estimates.C))\n",
    "print('Number of accepted components: ', len(cnm.estimates.idx_components))"
   ]
  },
  {
   "cell_type": "markdown",
   "metadata": {},
   "source": [
    "# Plot neuron contours"
   ]
  },
  {
   "cell_type": "code",
   "execution_count": null,
   "metadata": {
    "scrolled": true
   },
   "outputs": [],
   "source": [
    "#%% plot contour plots of accepted and rejected components\n",
    "cnm.estimates.plot_contours(img=cn_filter, idx=cnm.estimates.idx_components)"
   ]
  },
  {
   "cell_type": "markdown",
   "metadata": {},
   "source": [
    "# Plot the result"
   ]
  },
  {
   "cell_type": "code",
   "execution_count": null,
   "metadata": {
    "scrolled": true
   },
   "outputs": [],
   "source": [
    "%matplotlib inline\n",
    "\n",
    "#How many neurons to plot\n",
    "neuronsToPlot = len(cnm.estimates.C)\n",
    "\n",
    "DeconvTraces = cnm.estimates.S\n",
    "RawTraces = cnm.estimates.C\n",
    "SFP = cnm.estimates.A\n",
    "SFP_dims = list(dims)\n",
    "SFP_dims.append(SFP.shape[1]) \n",
    "print('Spatial foootprints dimensions (height x width x neurons): ' + str(SFP_dims))\n",
    "\n",
    "numNeurons = SFP_dims[2]\n",
    "\n",
    "SFP = np.reshape(SFP.toarray(), SFP_dims, order='F')\n",
    "\n",
    "maxRawTraces = np.amax(RawTraces)\n",
    "\n",
    "plt.figure(figsize=(30,15))\n",
    "plt.subplot(341);\n",
    "plt.subplot(345); plt.plot(mc.shifts_rig); plt.title('Motion corrected shifts')\n",
    "plt.subplot(3,4,9);\n",
    "plt.subplot(3,4,2); plt.imshow(cn_filter); plt.colorbar(); plt.title('Correlation projection')\n",
    "plt.subplot(3,4,6); plt.imshow(pnr); plt.colorbar(); plt.title('PNR')\n",
    "plt.subplot(3,4,10); plt.imshow(np.amax(SFP,axis=2)); plt.colorbar(); plt.title('Spatial footprints')\n",
    "\n",
    "plt.subplot(2,2,2); plt.figure; plt.title('Raw traces')\n",
    "plot_gain = 10 # To change the value gain of traces\n",
    "if numNeurons >= neuronsToPlot:\n",
    "  for i in range(neuronsToPlot):\n",
    "    if i == 0:\n",
    "      plt.plot(RawTraces[i,:],'k')\n",
    "    else:\n",
    "      trace = RawTraces[i,:] + maxRawTraces*i/plot_gain\n",
    "      plt.plot(trace,'k')\n",
    "else:\n",
    "  for i in range(numNeurons):\n",
    "    if i == 0:\n",
    "      plt.plot(RawTraces[i,:],'k')\n",
    "    else:\n",
    "      trace = RawTraces[i,:] + maxRawTraces*i/plot_gain\n",
    "      plt.plot(trace,'k')\n",
    "\n",
    "plt.subplot(2,2,4); plt.figure; plt.title('Deconvolved traces')\n",
    "plot_gain = 20 # To change the value gain of traces\n",
    "if numNeurons >= neuronsToPlot:\n",
    "  for i in range(neuronsToPlot):\n",
    "    if i == 0:\n",
    "      plt.plot(DeconvTraces[i,:],'k')\n",
    "    else:\n",
    "      trace = DeconvTraces[i,:] + maxRawTraces*i/plot_gain\n",
    "      plt.plot(trace,'k')\n",
    "else:\n",
    "  for i in range(numNeurons):\n",
    "    if i == 0:\n",
    "      plt.plot(DeconvTraces[i,:],'k')\n",
    "    else:\n",
    "      trace = DeconvTraces[i,:] + maxRawTraces*i/plot_gain\n",
    "      plt.plot(trace,'k')      \n",
    "\n",
    "# Save summary figure\n",
    "plt.savefig(path_to_results + '/' + 'summary_figure.svg', edgecolor='w', format='svg', transparent=True)"
   ]
  },
  {
   "cell_type": "markdown",
   "metadata": {},
   "source": [
    "#  Fancy way to show the results"
   ]
  },
  {
   "cell_type": "code",
   "execution_count": null,
   "metadata": {},
   "outputs": [],
   "source": [
    "# accepted components and it's traces\n",
    "CI = cm.local_correlations(images[::1].transpose(1,2,0))\n",
    "CI[np.isnan(CI)] = 0\n",
    "cnm.estimates.nb_view_components(img=CI, idx=cnm.estimates.idx_components, cmap = 'gray')\n",
    "# if you want to see the rejected components too, delete idx=...."
   ]
  },
  {
   "cell_type": "code",
   "execution_count": null,
   "metadata": {},
   "outputs": [],
   "source": [
    "# this shows actually the deconvolved version of the traces\n",
    "cnm.estimates.detrend_df_f(quantileMin=8, frames_window=250)\n",
    "cnm.estimates.select_components(use_object=True)\n",
    "cnm.estimates.nb_view_components(img=cn_filter, denoised_color='red', cmap = 'gray')"
   ]
  },
  {
   "cell_type": "code",
   "execution_count": null,
   "metadata": {
    "scrolled": true
   },
   "outputs": [],
   "source": [
    "cnm.estimates.select_components(use_object=True)"
   ]
  },
  {
   "cell_type": "markdown",
   "metadata": {},
   "source": [
    "# Delete unwanted neurons"
   ]
  },
  {
   "cell_type": "code",
   "execution_count": null,
   "metadata": {},
   "outputs": [],
   "source": [
    "n = len(cnm.estimates.C)\n",
    "j = [0] * n\n",
    "for k in range(len(cnm.estimates.C)):\n",
    "    plt.figure()\n",
    "    plt.plot(RawTraces[k,:])\n",
    "    plt.pause(0.2)\n",
    "    j[k] = input(\"Is it a good trace or not? If yes press 1, if not press 0!:\")"
   ]
  },
  {
   "cell_type": "code",
   "execution_count": null,
   "metadata": {
    "scrolled": true
   },
   "outputs": [],
   "source": [
    "print(j)\n",
    "res = [idx for idx, val in enumerate(j) if val != '0']"
   ]
  },
  {
   "cell_type": "code",
   "execution_count": null,
   "metadata": {},
   "outputs": [],
   "source": [
    "n = len(res)\n",
    "FinalTraces = [0] * n\n",
    "FinalDeconvs = [0] * n\n",
    "for m in range(n):\n",
    "    h = res[m]\n",
    "    FinalTraces[m] = RawTraces[h]\n",
    "    FinalDeconvs[m] = DeconvTraces[h]"
   ]
  },
  {
   "cell_type": "markdown",
   "metadata": {},
   "source": [
    "# Plot again the datas without the bad neurons "
   ]
  },
  {
   "cell_type": "code",
   "execution_count": null,
   "metadata": {
    "scrolled": true
   },
   "outputs": [],
   "source": [
    "\n",
    "neuronsToPlot = len(FinalTraces)\n",
    "plt.subplot(2,2,1); plt.figure; plt.title('Final Raw traces')\n",
    "plot_gain = 10\n",
    "maxFinalTraces = np.amax(FinalTraces)\n",
    "if numNeurons >= neuronsToPlot:\n",
    "  for i in range(neuronsToPlot):\n",
    "    if i == 0:\n",
    "      plt.plot(FinalTraces[i])\n",
    "    else:\n",
    "      trace = FinalTraces[i] + maxFinalTraces*i/plot_gain\n",
    "      plt.plot(trace)\n",
    "else:\n",
    "  for i in range(numNeurons):\n",
    "    if i == 0:\n",
    "      plt.plot(FinalTraces[i])\n",
    "    else:\n",
    "      trace = FinalTraces[i] + maxFinalTraces*i/plot_gain\n",
    "      plt.plot(trace)\n",
    "\n",
    "plt.subplot(2,2,2); plt.figure; plt.title('Final Deconvolved traces')\n",
    "plot_gain = 10 # To change the value gain of traces\n",
    "if numNeurons >= neuronsToPlot:\n",
    "  for i in range(neuronsToPlot):\n",
    "    if i == 0:\n",
    "      plt.plot(FinalDeconvs[i])\n",
    "    else:\n",
    "      trace = FinalDeconvs[i] + maxFinalTraces*i/plot_gain\n",
    "      plt.plot(trace)\n",
    "else:\n",
    "  for i in range(numNeurons):\n",
    "    if i == 0:\n",
    "      plt.plot(FinalDeconvs[i])\n",
    "    else:\n",
    "      trace = FinalDeconvs[i] + maxFinalTraces*i/plot_gain\n",
    "      plt.plot(trace,'k')\n",
    "        \n",
    "        \n",
    "# Save summary figure\n",
    "plt.savefig(path_to_results + '/' + 'finaltraces.svg', edgecolor='w', format='svg', transparent=True)        "
   ]
  },
  {
   "cell_type": "markdown",
   "metadata": {},
   "source": [
    "# Stop the process"
   ]
  },
  {
   "cell_type": "code",
   "execution_count": null,
   "metadata": {},
   "outputs": [],
   "source": [
    "# Stop counter and register analysis time\n",
    "analysis_end = time.time()\n",
    "\n",
    "analysis_duration = analysis_end - analysis_start\n",
    "\n",
    "print('Done analyzing. This took a total ' + str(analysis_duration) + ' s')"
   ]
  },
  {
   "cell_type": "markdown",
   "metadata": {},
   "source": [
    "# Save results in hdf5 file"
   ]
  },
  {
   "cell_type": "code",
   "execution_count": null,
   "metadata": {},
   "outputs": [],
   "source": [
    "save_hdf5 = True\n",
    "if save_hdf5: \n",
    "    cnm.save(path_to_results + '/' + 'analysis_results.hdf5')"
   ]
  },
  {
   "cell_type": "markdown",
   "metadata": {},
   "source": [
    "# Save results in Matlab format "
   ]
  },
  {
   "cell_type": "code",
   "execution_count": null,
   "metadata": {},
   "outputs": [],
   "source": [
    "from scipy.io import savemat\n",
    "save_mat = True\n",
    "if save_mat:  \n",
    "    results_dict = {\n",
    "                'dirName': path_to_analyze,\n",
    "                'numFiles': len(msFileList),\n",
    "                'framesNum': len(RawTraces[1]),\n",
    "                'maxFramesPerFile': 1000,\n",
    "                'height': dims[0],\n",
    "                'width': dims[1],\n",
    "                'Experiment': experimentName,\n",
    "                'camNumber': 0,\n",
    "                'analysis_time': analysis_time,\n",
    "                'ds': spatial_downsampling,\n",
    "                'shifts': mc.shifts_rig,\n",
    "                'meanFrame': [], #TO DO\n",
    "                'Centroids': [], #TO DO\n",
    "                'CorrProj': cn_filter,\n",
    "                'PeakToNoiseProj': pnr,\n",
    "                'FiltTraces': FinalTraces,\n",
    "                'Decoaccepted': FinalDeconvs,\n",
    "                'RawTraces': RawTraces.conj().transpose(), #swap time x neurons dimensions\n",
    "                'SFP': SFP,\n",
    "                'numNeurons': SFP_dims[2],\n",
    "                'DeconvTraces': DeconvTraces\n",
    "                }\n",
    "\n",
    "    SFPperm = np.transpose(SFP,[2,0,1])\n",
    "    sio.savemat(path_to_results + '/SFP.mat', {'SFP': SFPperm})\n",
    "    sio.savemat(path_to_results + '/ms.mat', {'ms': results_dict})"
   ]
  },
  {
   "cell_type": "markdown",
   "metadata": {},
   "source": [
    "# Behavior"
   ]
  },
  {
   "cell_type": "code",
   "execution_count": null,
   "metadata": {},
   "outputs": [],
   "source": [
    "from caiman.behavior import behavior\n",
    "import caiman as cm"
   ]
  },
  {
   "cell_type": "code",
   "execution_count": null,
   "metadata": {
    "scrolled": true
   },
   "outputs": [],
   "source": [
    "import os\n",
    "from tkinter import filedialog\n",
    "from tkinter import *\n",
    "import re\n",
    "root2 = Tk()\n",
    "Button(root2, text=\"Quit\", command=root2.destroy).pack()\n",
    "root2.folder =  filedialog.askdirectory(title = \"Select folder to analyse\")\n",
    "path = root2.folder\n",
    "root2.mainloop()"
   ]
  },
  {
   "cell_type": "code",
   "execution_count": null,
   "metadata": {
    "scrolled": true
   },
   "outputs": [],
   "source": [
    "bfiles = [i for i in os.listdir(path) if os.path.isfile(os.path.join(path,i)) and \\\n",
    "     'behavCam' in i]\n",
    "bFileList = [] #create an empty list\n",
    "print(bfiles)\n",
    "k = len(bfiles)\n"
   ]
  },
  {
   "cell_type": "code",
   "execution_count": null,
   "metadata": {},
   "outputs": [],
   "source": [
    "for bfile in bfiles:\n",
    "    if bfile.endswith(\".avi\"):\n",
    "        bFileList.append(os.path.join(path, bfile)) #append result to list\n",
    "\n",
    "print('In this folder the number of msCam videos is: ')\n",
    "print(len(bfiles))\n",
    "\n",
    "\n",
    "bfnames = bFileList\n",
    "print(bfnames)"
   ]
  },
  {
   "cell_type": "code",
   "execution_count": null,
   "metadata": {},
   "outputs": [],
   "source": [
    "print('All the data successfully analized')"
   ]
  },
  {
   "cell_type": "code",
   "execution_count": null,
   "metadata": {},
   "outputs": [],
   "source": []
  }
 ],
 "metadata": {
  "kernelspec": {
   "display_name": "Python 3",
   "language": "python",
   "name": "python3"
  },
  "language_info": {
   "codemirror_mode": {
    "name": "ipython",
    "version": 3
   },
   "file_extension": ".py",
   "mimetype": "text/x-python",
   "name": "python",
   "nbconvert_exporter": "python",
   "pygments_lexer": "ipython3",
   "version": "3.7.9"
  }
 },
 "nbformat": 4,
 "nbformat_minor": 4
}
